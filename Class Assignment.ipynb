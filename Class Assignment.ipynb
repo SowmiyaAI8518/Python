{
 "cells": [
  {
   "cell_type": "code",
   "execution_count": 31,
   "metadata": {},
   "outputs": [],
   "source": [
    "class multiplefn():\n",
    "    def AIsubfields():\n",
    "        Lists=['Machine Learning','Neural Networks','Vision','Robotics','Speech Processing','Natural Language Processing']\n",
    "        for subfields in Lists:\n",
    "            return Lists\n",
    "    def OddEven():\n",
    "        num=int(input(\"Enter a number:\"))\n",
    "        if(num%2==0):\n",
    "            print(num, \"is Even number\")\n",
    "            Oddeven=\"is Even number\"\n",
    "        else:\n",
    "            print(num, \"is Odd number\")\n",
    "            OddEven=\"is Even number\"\n",
    "            return OddEven\n",
    "    def MarriageEligibility():\n",
    "        gender=input(\"Your Gender:\")\n",
    "        age=int(input(\"Your Age:\"))\n",
    "        if(gender=='male') and (age>=21):\n",
    "            print(\"Eligible\")\n",
    "            condition=\"Eligible\"\n",
    "        elif(gender=='female') and (age>=18):\n",
    "            print(\"Eligible\")\n",
    "            condition=\"Eligible\"\n",
    "        else:\n",
    "            print(\"Not Eligible\")\n",
    "            condition=\"Not Eligible\"\n",
    "            return condition\n",
    "    def Percentage():\n",
    "        S1=int(input(\"Subject1:\"))\n",
    "        S2=int(input(\"Subject2:\"))\n",
    "        S3=int(input(\"Subject3:\"))\n",
    "        S4=int(input(\"Subject4:\"))\n",
    "        S5=int(input(\"Subject5:\"))\n",
    "        print()\n",
    "        Total=S1+S2+S3+S4+S5\n",
    "        print(\"Total:\",Total)\n",
    "        Percentage=(Total/500)*100\n",
    "        print(\"Percentage:\",Percentage,\"%\")\n",
    "        return Percentage\n",
    "    def triangle():\n",
    "        H=int(input(\"Height:\"))\n",
    "        B=int(input(\"Breadth:\"))\n",
    "        Area=(H*B)/2\n",
    "        print(\"Area formula:(Height*Breadth)/2\")\n",
    "        print(\"Area of Triangle:\",Area)\n",
    "        H1=int(input(\"Height1:\"))\n",
    "        H2=int(input(\"Height2:\"))\n",
    "        B1=int(input(\"Breadth:\"))\n",
    "        print(\"Perimeter formula: Height1+Height2+Breadth\")\n",
    "        Perimeter=H1+H2+B1\n",
    "        print(\"Perimeter of Triangle: \",Perimeter)\n",
    "        return AreaPerimeter\n",
    "        \n",
    "    \n",
    "    \n"
   ]
  },
  {
   "cell_type": "code",
   "execution_count": 23,
   "metadata": {},
   "outputs": [
    {
     "data": {
      "text/plain": [
       "['Machine Learning',\n",
       " 'Neural Networks',\n",
       " 'Vision',\n",
       " 'Robotics',\n",
       " 'Speech Processing',\n",
       " 'Natural Language Processing']"
      ]
     },
     "execution_count": 23,
     "metadata": {},
     "output_type": "execute_result"
    }
   ],
   "source": [
    "multiplefn.AIsubfields()"
   ]
  },
  {
   "cell_type": "code",
   "execution_count": 8,
   "metadata": {},
   "outputs": [
    {
     "name": "stdout",
     "output_type": "stream",
     "text": [
      "Enter a number:52452\n",
      "52452 is Even number\n"
     ]
    }
   ],
   "source": [
    "multiplefn.OddEven()"
   ]
  },
  {
   "cell_type": "code",
   "execution_count": 9,
   "metadata": {},
   "outputs": [
    {
     "name": "stdout",
     "output_type": "stream",
     "text": [
      "Your Gender:male\n",
      "Your Age:20\n",
      "Not Eligible\n"
     ]
    },
    {
     "data": {
      "text/plain": [
       "'Not Eligible'"
      ]
     },
     "execution_count": 9,
     "metadata": {},
     "output_type": "execute_result"
    }
   ],
   "source": [
    "multiplefn.MarriageEligibility()"
   ]
  },
  {
   "cell_type": "code",
   "execution_count": 14,
   "metadata": {},
   "outputs": [
    {
     "name": "stdout",
     "output_type": "stream",
     "text": [
      "Subject1:98\n",
      "Subject2:87\n",
      "Subject3:95\n",
      "Subject4:95\n",
      "Subject5:93\n",
      "\n",
      "Total: 468\n",
      "Percentage: 93.60000000000001 %\n"
     ]
    },
    {
     "data": {
      "text/plain": [
       "93.60000000000001"
      ]
     },
     "execution_count": 14,
     "metadata": {},
     "output_type": "execute_result"
    }
   ],
   "source": [
    "multiplefn.Percentage()"
   ]
  },
  {
   "cell_type": "code",
   "execution_count": 32,
   "metadata": {},
   "outputs": [
    {
     "name": "stdout",
     "output_type": "stream",
     "text": [
      "Height:32\n",
      "Breadth:34\n",
      "Area formula:(Height*Breadth)/2\n",
      "Area of Triangle: 544.0\n",
      "Height1:2\n",
      "Height2:4\n",
      "Breadth:4\n",
      "Perimeter formula: Height1+Height2+Breadth\n",
      "Perimeter of Triangle:  10\n"
     ]
    }
   ],
   "source": [
    "multiplefn.triangle()"
   ]
  },
  {
   "cell_type": "code",
   "execution_count": null,
   "metadata": {},
   "outputs": [],
   "source": []
  }
 ],
 "metadata": {
  "kernelspec": {
   "display_name": "Python 3",
   "language": "python",
   "name": "python3"
  },
  "language_info": {
   "codemirror_mode": {
    "name": "ipython",
    "version": 3
   },
   "file_extension": ".py",
   "mimetype": "text/x-python",
   "name": "python",
   "nbconvert_exporter": "python",
   "pygments_lexer": "ipython3",
   "version": "3.7.4"
  }
 },
 "nbformat": 4,
 "nbformat_minor": 2
}
